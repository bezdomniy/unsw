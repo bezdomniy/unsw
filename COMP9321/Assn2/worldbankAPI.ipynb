{
 "cells": [
  {
   "cell_type": "code",
   "execution_count": 10,
   "metadata": {},
   "outputs": [],
   "source": [
    "from flask import Flask, request, jsonify\n",
    "\n",
    "from flask_restplus import Resource, Api\n",
    "from flask_sqlalchemy import SQLAlchemy\n",
    "\n",
    "import sqlite3\n",
    "\n",
    "import requests\n",
    "import json\n",
    "import io\n",
    "import datetime\n",
    "import uuid"
   ]
  },
  {
   "cell_type": "code",
   "execution_count": 11,
   "metadata": {},
   "outputs": [],
   "source": [
    "def create_db(db_file):\n",
    "    '''\n",
    "    use this function to create a db, don't change the name of this function.\n",
    "    db_file: Your database's name.\n",
    "    '''\n",
    "    pass "
   ]
  },
  {
   "cell_type": "code",
   "execution_count": 12,
   "metadata": {},
   "outputs": [],
   "source": [
    "def getJsonContent(indicator_id):\n",
    "    url = 'http://api.worldbank.org/v2/countries/all/indicators/' + indicator_id + '?per_page=1000&date=2013:2018&format=json'\n",
    "\n",
    "    response = requests.get(url)\n",
    "    jsonContent = json.load(io.BytesIO(response.content))\n",
    "    if indicator_id != 'favicon.ico' and jsonContent[0]['pages'] > 1:\n",
    "        pages = jsonContent[0]['pages']\n",
    "\n",
    "        for page in range(2,pages+1):\n",
    "            url = 'http://api.worldbank.org/v2/countries/all/indicators/' + indicator_id + '?per_page=1000&date=2013:2018&format=json&page=' + str(page) \n",
    "            response = requests.get(url)\n",
    "            jsonContent = json.load(io.BytesIO(response.content))\n",
    "    return jsonContent\n",
    "\n",
    "def cleanJSON(jsonContent):\n",
    "    ret = dict()\n",
    "    ret['indicator'] = jsonContent[1][0]['indicator']['id']\n",
    "    ret['indicator_value'] = jsonContent[1][0]['indicator']['value']\n",
    "\n",
    "    ret['entries'] = list()\n",
    "    for item in jsonContent[1]:\n",
    "        ret['entries'].append({'country':item['country']['value'], 'date':item['date'], 'value':item['value']})\n",
    "\n",
    "    return ret\n",
    "\n",
    "def _loadJSON(jsonContent, creation_time, collection_id):\n",
    "    indicator = jsonContent['indicator']\n",
    "    indicator_value = jsonContent['indicator_value']\n",
    "\n",
    "    for item in jsonContent['entries']:\n",
    "        nextItem = Indicator(creation_time = creation_time, \n",
    "                             collection_id = collection_id, \n",
    "                             indicator = indicator,\n",
    "                             indicator_value = indicator_value,\n",
    "                             country = item['country'],\n",
    "                             date = item['date'],\n",
    "                             value = item['value'])\n",
    "        db.session.add(nextItem)\n",
    "        \n",
    "    db.session.commit()\n",
    "    \n",
    "def loadJSON(jsonContent, creation_time, collection_id):\n",
    "    indicator = jsonContent['indicator']\n",
    "    indicator_value = jsonContent['indicator_value']\n",
    "    \n",
    "    nextItem = Collection(creation_time = creation_time, \n",
    "                             collection_id = collection_id, \n",
    "                             indicator = indicator,\n",
    "                             indicator_value = indicator_value)\n",
    "    db.session.add(nextItem)\n",
    "\n",
    "    for item in jsonContent['entries']:\n",
    "        nextItem = Entry(    collection_id = collection_id, \n",
    "                             country = item['country'],\n",
    "                             date = item['date'],\n",
    "                             value = item['value'])\n",
    "        db.session.add(nextItem)\n",
    "        \n",
    "    db.session.commit()"
   ]
  },
  {
   "cell_type": "code",
   "execution_count": 13,
   "metadata": {},
   "outputs": [
    {
     "name": "stderr",
     "output_type": "stream",
     "text": [
      "/opt/anaconda/lib/python3.6/site-packages/flask_sqlalchemy/__init__.py:774: UserWarning: Neither SQLALCHEMY_DATABASE_URI nor SQLALCHEMY_BINDS is set. Defaulting SQLALCHEMY_DATABASE_URI to \"sqlite:///:memory:\".\n",
      "  'Neither SQLALCHEMY_DATABASE_URI nor SQLALCHEMY_BINDS is set. '\n",
      "/opt/anaconda/lib/python3.6/site-packages/flask_sqlalchemy/__init__.py:794: FSADeprecationWarning: SQLALCHEMY_TRACK_MODIFICATIONS adds significant overhead and will be disabled by default in the future.  Set it to True or False to suppress this warning.\n",
      "  'SQLALCHEMY_TRACK_MODIFICATIONS adds significant overhead and '\n"
     ]
    }
   ],
   "source": [
    "app = Flask(__name__)\n",
    "# app.config['SQLALCHEMY_DATABASE_URI'] = 'sqlite:///memory:'\n",
    "db = SQLAlchemy(app)"
   ]
  },
  {
   "cell_type": "code",
   "execution_count": 14,
   "metadata": {},
   "outputs": [],
   "source": [
    "class Entry(db.Model):\n",
    "    collection_id = db.Column(db.String(36), db.ForeignKey('collection.collection_id'), primary_key=True)\n",
    "    country = db.Column(db.String(20), primary_key=True)\n",
    "    date = db.Column(db.String(4), primary_key=True)\n",
    "    value = db.Column(db.Float)\n",
    "    \n",
    "    @property\n",
    "    def serialize(self):\n",
    "        return {'country': self.country,\n",
    "                'date': self.date,\n",
    "                'value': self.value}\n",
    "\n",
    "    def __repr__(self):\n",
    "        return '<Country: {}, Date: {}, Value: {}>'.format(self.country, self.date, self.value)\n",
    "    \n",
    "class Collection(db.Model):\n",
    "    collection_id = db.Column(db.String(36), primary_key=True)\n",
    "    creation_time = db.Column(db.DateTime, nullable=False)\n",
    "    indicator = db.Column(db.String(20), nullable=False)\n",
    "    indicator_value = db.Column(db.String(20), nullable=False)\n",
    "        \n",
    "    @property\n",
    "    def serialize(self):\n",
    "        return {'collection_id': self.collection_id,\n",
    "                'indicator': self.indicator,\n",
    "                'indicator_value': self.indicator_value,\n",
    "                'creation_time': self.creation_time}\n",
    "    \n",
    "    def get_repr(self, collection):\n",
    "        return {\"location\" : \"/\" + collection + \"/\" + self.collection_id, \n",
    "                \"collection_id\" : self.collection_id,  \n",
    "                \"creation_time\": self.creation_time.strftime('%B %d %Y - %H:%M:%S'),\n",
    "                \"indicator\" : self.indicator}\n",
    "\n",
    "    def __repr__(self):\n",
    "        return str(self.get_repr)"
   ]
  },
  {
   "cell_type": "code",
   "execution_count": 15,
   "metadata": {},
   "outputs": [],
   "source": [
    "db.create_all()\n",
    "api = Api(app)"
   ]
  },
  {
   "cell_type": "code",
   "execution_count": 16,
   "metadata": {},
   "outputs": [],
   "source": [
    "@api.route('/<collection>')\n",
    "class Collection_Endpoint(Resource):\n",
    "    def post(self, collection):\n",
    "        indicator_id = api.payload['indicator_id']\n",
    "        jsonContent = getJsonContent(indicator_id)\n",
    "        cleanedContent = cleanJSON(jsonContent)\n",
    "        \n",
    "        creation_time = datetime.datetime.utcnow()\n",
    "        collection_id = str(uuid.uuid4())\n",
    "\n",
    "        loadJSON(cleanedContent, creation_time, collection_id)\n",
    "\n",
    "        return Response(json.dumps({'location' : '/' + collection + '/' + collection_id, \n",
    "                'collection_id' : collection_id,  \n",
    "                'creation_time': creation_time.strftime('%B %d %Y - %H:%M:%S'),\n",
    "                'indicator' : indicator_id}), status=201, mimetype='application/json')\n",
    "    \n",
    "    def get(self, collection):\n",
    "        return jsonify(list(x.get_repr(collection) for x in Collection.query.all()))\n",
    "\n",
    "\n",
    "@api.route('/<collection>/<collection_id>')\n",
    "class Collection_ID_Endpoint(Resource):\n",
    "    def delete(self, collection, collection_id):\n",
    "        db.session.query(Entry).filter(Entry.collection_id == collection_id).delete()\n",
    "        db.session.query(Collection).filter(Collection.collection_id == collection_id).delete()\n",
    "        db.session.commit()\n",
    "        \n",
    "        return jsonify({'message' :'Collection = ' + collection_id + 'is removed from the database!'})\n",
    "    \n",
    "    def get(self, collection, collection_id):\n",
    "        entries = list(x.serialize for x in Entry.query.filter(Entry.collection_id == collection_id).all())\n",
    "        collections = Collection.query.filter(Collection.collection_id == collection_id).all()[0].serialize\n",
    "        \n",
    "        collections['entries'] = entries\n",
    "        \n",
    "        return jsonify(collections)\n",
    "    \n",
    "# api.add_resource(Interface, '/<collection>')"
   ]
  },
  {
   "cell_type": "code",
   "execution_count": 17,
   "metadata": {},
   "outputs": [],
   "source": [
    "@api.route('/<collection>/<collection_id>/<year>/<country>')\n",
    "class Country_Year_Endpoint(Resource):\n",
    "    def get(self, collection, collection_id, year, country):\n",
    "        entries = list(x.serialize for x in Entry.query.filter(Entry.collection_id == collection_id,\n",
    "                                                               Entry.country == country.title(),\n",
    "                                                               Entry.date == year\n",
    "                                                              ).all())\n",
    "        collections = Collection.query.filter(Collection.collection_id == collection_id).all()[0].serialize\n",
    "\n",
    "        del collections['collection_id']\n",
    "        del collections['creation_time']\n",
    "        \n",
    "        if not entries:\n",
    "            return jsonify({'message' :'No such record found in: ' + collection + '/' + collection_id})\n",
    "        \n",
    "        collections['country'] = entries[0]['country']\n",
    "        collections['year'] = entries[0]['date']\n",
    "        collections['value'] = entries[0]['value']\n",
    "        \n",
    "        \n",
    "        return jsonify(collections)"
   ]
  },
  {
   "cell_type": "code",
   "execution_count": null,
   "metadata": {},
   "outputs": [
    {
     "name": "stdout",
     "output_type": "stream",
     "text": [
      " * Serving Flask app \"__main__\" (lazy loading)\n",
      " * Environment: production\n",
      "   WARNING: Do not use the development server in a production environment.\n",
      "   Use a production WSGI server instead.\n",
      " * Debug mode: off\n"
     ]
    },
    {
     "name": "stderr",
     "output_type": "stream",
     "text": [
      " * Running on http://127.0.0.1:5000/ (Press CTRL+C to quit)\n",
      "127.0.0.1 - - [14/Mar/2019 17:11:08] \"POST /test HTTP/1.1\" 201 -\n",
      "127.0.0.1 - - [14/Mar/2019 17:11:31] \"GET /test/e7ce9572-9da5-4025-b1b7-f6f8f51584da/2018/malawi HTTP/1.1\" 200 -\n",
      "127.0.0.1 - - [14/Mar/2019 17:11:42] \"GET /test/e7ce9572-9da5-4025-b1b7-f6f8f51584da/2018/malawi HTTP/1.1\" 200 -\n"
     ]
    }
   ],
   "source": [
    "if __name__ == '__main__':\n",
    "    app.run()"
   ]
  },
  {
   "cell_type": "code",
   "execution_count": null,
   "metadata": {},
   "outputs": [],
   "source": [
    "# # data = GetData().post('NY.GDP.MKTP.CD')\n",
    "\n",
    "# session = requests.Session()\n",
    "# session.trust_env = False\n",
    "\n",
    "# # session.get('http://localhost:5000/')\n",
    "\n",
    "# resp = requests.post('http://10.190.0.76:5000/', data = {'indicator_id':'NY.GDP.MKTP.CD'})"
   ]
  }
 ],
 "metadata": {
  "kernelspec": {
   "display_name": "Python 3",
   "language": "python",
   "name": "python3"
  },
  "language_info": {
   "codemirror_mode": {
    "name": "ipython",
    "version": 3
   },
   "file_extension": ".py",
   "mimetype": "text/x-python",
   "name": "python",
   "nbconvert_exporter": "python",
   "pygments_lexer": "ipython3",
   "version": "3.6.8"
  }
 },
 "nbformat": 4,
 "nbformat_minor": 2
}
